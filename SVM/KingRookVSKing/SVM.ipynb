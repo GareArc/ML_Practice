{
 "cells": [
  {
   "cell_type": "code",
   "execution_count": 14,
   "metadata": {},
   "outputs": [],
   "source": [
    "import pandas as pd"
   ]
  },
  {
   "cell_type": "markdown",
   "metadata": {},
   "source": [
    "## Load and process data"
   ]
  },
  {
   "cell_type": "code",
   "execution_count": 15,
   "metadata": {},
   "outputs": [
    {
     "name": "stdout",
     "output_type": "stream",
     "text": [
      "Xtrain shape: (19639, 6)\n",
      "Xtest shape: (8417, 6)\n",
      "Ytrain shape: (19639,)\n",
      "Ytest shape: (8417,)\n"
     ]
    }
   ],
   "source": [
    "header_names = [\"White_King_Col\", \"White_King_Row\", \"White_Rook_Col\", \"White_Rook_Row\", \"Black_King_Col\", \"Black_King_Row\", \"Result\"]\n",
    "alpha_table = {\n",
    "    \"a\": 1,\n",
    "    \"b\": 2,\n",
    "    \"c\": 3,\n",
    "    \"d\": 4,\n",
    "    \"e\": 5,\n",
    "    \"f\": 6,\n",
    "    \"g\": 7,\n",
    "    \"h\": 8,\n",
    "}\n",
    "converters = {\n",
    "    \"Result\": lambda x: 1 if x == \"draw\" else -1,\n",
    "    \"White_King_Col\": lambda x: alpha_table[x],\n",
    "    \"White_Rook_Col\": lambda x: alpha_table[x],\n",
    "    \"Black_King_Col\": lambda x: alpha_table[x],\n",
    "}\n",
    "data = pd.read_csv(\"./krkopt.data\", header=None, names=header_names, encoding=\"utf-8\", converters=converters)\n",
    "\n",
    "data.head()\n",
    "\n",
    "x = data.iloc[:, :-1]\n",
    "y = data.iloc[:, -1]\n",
    "from sklearn.model_selection import train_test_split\n",
    "x_train, x_test, y_train, y_test = train_test_split(x, y, test_size=0.3, random_state=1)\n",
    "\n",
    "print(f\"Xtrain shape: {x_train.shape}\")\n",
    "print(f\"Xtest shape: {x_test.shape}\")\n",
    "print(f\"Ytrain shape: {y_train.shape}\")\n",
    "print(f\"Ytest shape: {y_test.shape}\")\n",
    "\n",
    "from sklearn.preprocessing import StandardScaler\n",
    "ss = StandardScaler()\n",
    "x_train = ss.fit_transform(x_train)\n",
    "x_test = ss.fit_transform(x_test)\n"
   ]
  },
  {
   "cell_type": "markdown",
   "metadata": {},
   "source": [
    "## Training using SVM with RBF"
   ]
  },
  {
   "cell_type": "code",
   "execution_count": 16,
   "metadata": {},
   "outputs": [
    {
     "name": "stdout",
     "output_type": "stream",
     "text": [
      "              precision    recall  f1-score   support\n",
      "\n",
      "          -1       0.99      1.00      0.99      7544\n",
      "           1       0.99      0.91      0.95       873\n",
      "\n",
      "    accuracy                           0.99      8417\n",
      "   macro avg       0.99      0.95      0.97      8417\n",
      "weighted avg       0.99      0.99      0.99      8417\n",
      "\n",
      "0.9893073541641915\n"
     ]
    }
   ],
   "source": [
    "from sklearn.svm import SVC\n",
    "svc = SVC(kernel='rbf')\n",
    "svc.fit(x_train, y_train)\n",
    "y_pred = svc.predict(x_test)\n",
    "\n",
    "from sklearn.metrics import classification_report, accuracy_score\n",
    "print(classification_report(y_test, y_pred))\n",
    "print(accuracy_score(y_test, y_pred))\n"
   ]
  }
 ],
 "metadata": {
  "kernelspec": {
   "display_name": "Python 3 (ipykernel)",
   "language": "python",
   "name": "python3"
  },
  "language_info": {
   "codemirror_mode": {
    "name": "ipython",
    "version": 3
   },
   "file_extension": ".py",
   "mimetype": "text/x-python",
   "name": "python",
   "nbconvert_exporter": "python",
   "pygments_lexer": "ipython3",
   "version": "3.9.12"
  },
  "orig_nbformat": 4
 },
 "nbformat": 4,
 "nbformat_minor": 2
}
