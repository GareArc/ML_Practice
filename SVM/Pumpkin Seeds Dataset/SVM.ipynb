{
 "cells": [
  {
   "cell_type": "code",
   "execution_count": 17,
   "metadata": {},
   "outputs": [
    {
     "data": {
      "text/plain": [
       "0    Çerçevelik\n",
       "1    Çerçevelik\n",
       "2    Çerçevelik\n",
       "3    Çerçevelik\n",
       "4    Çerçevelik\n",
       "Name: Class, dtype: object"
      ]
     },
     "execution_count": 17,
     "metadata": {},
     "output_type": "execute_result"
    }
   ],
   "source": [
    "import os\n",
    "import numpy as np\n",
    "import pandas as pd\n",
    "import matplotlib.pyplot as plt\n",
    "\n",
    "## Load data\n",
    "data = pd.read_excel(\"./Pumpkin_Seeds_Dataset.xlsx\")\n",
    "\n",
    "# Print samples\n",
    "\n",
    "# color_map = {0: \"b\", 1: \"r\"}\n",
    "# plt.scatter(data[\"Perimeter\"], data[\"Major_Axis_Length\"], c=[color_map[c] for c in data[\"Class\"]])\n",
    "\n",
    "x = data.iloc[:, :-1]\n",
    "x.head()\n",
    "\n",
    "y = data.iloc[:, -1]\n",
    "y.head()\n",
    "\n",
    "\n"
   ]
  },
  {
   "cell_type": "code",
   "execution_count": 18,
   "metadata": {},
   "outputs": [
    {
     "name": "stdout",
     "output_type": "stream",
     "text": [
      "Xtrain shape: (1750, 12)\n",
      "Xtest shape: (750, 12)\n",
      "Ytrain shape: (1750,)\n",
      "Ytest shape: (750,)\n"
     ]
    }
   ],
   "source": [
    "from sklearn.model_selection import train_test_split\n",
    "x_train, x_test, y_train, y_test = train_test_split(x, y, test_size=0.3, random_state=1)\n",
    "\n",
    "print(f\"Xtrain shape: {x_train.shape}\")\n",
    "print(f\"Xtest shape: {x_test.shape}\")\n",
    "print(f\"Ytrain shape: {y_train.shape}\")\n",
    "print(f\"Ytest shape: {y_test.shape}\")\n",
    "\n",
    "from sklearn.preprocessing import StandardScaler\n",
    "\n",
    "ss = StandardScaler()\n",
    "x_train = ss.fit_transform(x_train)\n",
    "x_test = ss.fit_transform(x_test)\n"
   ]
  },
  {
   "cell_type": "code",
   "execution_count": 19,
   "metadata": {},
   "outputs": [
    {
     "name": "stdout",
     "output_type": "stream",
     "text": [
      "               precision    recall  f1-score   support\n",
      "\n",
      "   Çerçevelik       0.86      0.93      0.89       379\n",
      "Ürgüp Sivrisi       0.92      0.84      0.88       371\n",
      "\n",
      "     accuracy                           0.88       750\n",
      "    macro avg       0.89      0.88      0.88       750\n",
      " weighted avg       0.89      0.88      0.88       750\n",
      "\n"
     ]
    }
   ],
   "source": [
    "## Perform soft-margin SVM\n",
    "from sklearn.svm import SVC\n",
    "from sklearn.metrics import classification_report, accuracy_score, confusion_matrix\n",
    "svc = SVC(kernel=\"rbf\", gamma=0.1)\n",
    "svc.fit(x_train, y_train)\n",
    "y_pred= svc.predict(x_test)\n",
    "\n",
    "print(classification_report(y_test, y_pred))"
   ]
  },
  {
   "cell_type": "code",
   "execution_count": 20,
   "metadata": {},
   "outputs": [
    {
     "data": {
      "text/plain": [
       "0.884"
      ]
     },
     "execution_count": 20,
     "metadata": {},
     "output_type": "execute_result"
    }
   ],
   "source": [
    "accuracy_score(y_test,y_pred)"
   ]
  }
 ],
 "metadata": {
  "interpreter": {
   "hash": "1bf10fbc92cc1d964ff51b9de90a3701e92daab775a6ed84925255218a65a4fa"
  },
  "kernelspec": {
   "display_name": "Python 3.9.7 ('AI')",
   "language": "python",
   "name": "python3"
  },
  "language_info": {
   "codemirror_mode": {
    "name": "ipython",
    "version": 3
   },
   "file_extension": ".py",
   "mimetype": "text/x-python",
   "name": "python",
   "nbconvert_exporter": "python",
   "pygments_lexer": "ipython3",
   "version": "3.9.12"
  },
  "orig_nbformat": 4
 },
 "nbformat": 4,
 "nbformat_minor": 2
}
